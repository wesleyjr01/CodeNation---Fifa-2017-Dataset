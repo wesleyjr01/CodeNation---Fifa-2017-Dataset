{
 "cells": [
  {
   "cell_type": "markdown",
   "metadata": {},
   "source": [
    "# With ML, discover the players positions of the game FIFA 2017"
   ]
  },
  {
   "cell_type": "code",
   "execution_count": 220,
   "metadata": {},
   "outputs": [],
   "source": [
    "import numpy as np\n",
    "import pandas as pd\n",
    "from sklearn.preprocessing import LabelEncoder\n",
    "import warnings\n",
    "warnings.filterwarnings('ignore')"
   ]
  },
  {
   "cell_type": "code",
   "execution_count": 221,
   "metadata": {},
   "outputs": [],
   "source": [
    "# Read CSV files into DataFrames\n",
    "df_train = pd.read_csv(r\"C:\\Users\\wesle\\codenation\\mlearning-1\\train.csv\", header=0)\n",
    "df_test = pd.read_csv(r\"C:\\Users\\wesle\\codenation\\mlearning-1\\test.csv\", header=0)"
   ]
  },
  {
   "cell_type": "code",
   "execution_count": 222,
   "metadata": {},
   "outputs": [
    {
     "data": {
      "text/html": [
       "<div>\n",
       "<style scoped>\n",
       "    .dataframe tbody tr th:only-of-type {\n",
       "        vertical-align: middle;\n",
       "    }\n",
       "\n",
       "    .dataframe tbody tr th {\n",
       "        vertical-align: top;\n",
       "    }\n",
       "\n",
       "    .dataframe thead th {\n",
       "        text-align: right;\n",
       "    }\n",
       "</style>\n",
       "<table border=\"1\" class=\"dataframe\">\n",
       "  <thead>\n",
       "    <tr style=\"text-align: right;\">\n",
       "      <th></th>\n",
       "      <th>ID</th>\n",
       "      <th>height_cm</th>\n",
       "      <th>weight_kg</th>\n",
       "      <th>eur_wage</th>\n",
       "      <th>skill_moves</th>\n",
       "      <th>weak_foot</th>\n",
       "      <th>crossing</th>\n",
       "      <th>finishing</th>\n",
       "      <th>heading_accuracy</th>\n",
       "      <th>short_passing</th>\n",
       "      <th>...</th>\n",
       "      <th>skilled_dribbling_trait</th>\n",
       "      <th>takes_finesse_free_kicks_trait</th>\n",
       "      <th>target_forward_trait</th>\n",
       "      <th>team_player_trait</th>\n",
       "      <th>technical_dribbler_trait</th>\n",
       "      <th>tries_to_beat_defensive_line_trait</th>\n",
       "      <th>poacher_speciality</th>\n",
       "      <th>speedster_speciality</th>\n",
       "      <th>aerial_threat_speciality</th>\n",
       "      <th>preferred_pos</th>\n",
       "    </tr>\n",
       "  </thead>\n",
       "  <tbody>\n",
       "    <tr>\n",
       "      <th>0</th>\n",
       "      <td>6f5e21e1a125d8cd4302ee636b2dbfcde876bad8</td>\n",
       "      <td>191.0</td>\n",
       "      <td>87.0</td>\n",
       "      <td>18000.0</td>\n",
       "      <td>1</td>\n",
       "      <td>3</td>\n",
       "      <td>6</td>\n",
       "      <td>6</td>\n",
       "      <td>10</td>\n",
       "      <td>15</td>\n",
       "      <td>...</td>\n",
       "      <td>False</td>\n",
       "      <td>False</td>\n",
       "      <td>False</td>\n",
       "      <td>False</td>\n",
       "      <td>False</td>\n",
       "      <td>False</td>\n",
       "      <td>False</td>\n",
       "      <td>False</td>\n",
       "      <td>False</td>\n",
       "      <td>prefers_gk</td>\n",
       "    </tr>\n",
       "    <tr>\n",
       "      <th>1</th>\n",
       "      <td>3137856d4de4f35ecd437bfcb6f6555e36dabbc0</td>\n",
       "      <td>171.0</td>\n",
       "      <td>72.0</td>\n",
       "      <td>8000.0</td>\n",
       "      <td>2</td>\n",
       "      <td>3</td>\n",
       "      <td>54</td>\n",
       "      <td>32</td>\n",
       "      <td>45</td>\n",
       "      <td>69</td>\n",
       "      <td>...</td>\n",
       "      <td>False</td>\n",
       "      <td>False</td>\n",
       "      <td>False</td>\n",
       "      <td>False</td>\n",
       "      <td>False</td>\n",
       "      <td>False</td>\n",
       "      <td>False</td>\n",
       "      <td>False</td>\n",
       "      <td>False</td>\n",
       "      <td>prefers_cm</td>\n",
       "    </tr>\n",
       "    <tr>\n",
       "      <th>2</th>\n",
       "      <td>5e60935d579a888fb0230892921064657d17b850</td>\n",
       "      <td>190.0</td>\n",
       "      <td>88.0</td>\n",
       "      <td>2000.0</td>\n",
       "      <td>1</td>\n",
       "      <td>3</td>\n",
       "      <td>33</td>\n",
       "      <td>21</td>\n",
       "      <td>14</td>\n",
       "      <td>42</td>\n",
       "      <td>...</td>\n",
       "      <td>False</td>\n",
       "      <td>False</td>\n",
       "      <td>False</td>\n",
       "      <td>False</td>\n",
       "      <td>False</td>\n",
       "      <td>False</td>\n",
       "      <td>False</td>\n",
       "      <td>False</td>\n",
       "      <td>False</td>\n",
       "      <td>prefers_gk</td>\n",
       "    </tr>\n",
       "    <tr>\n",
       "      <th>3</th>\n",
       "      <td>083e73805f423abc02e65122d2dfcea880db92c0</td>\n",
       "      <td>194.0</td>\n",
       "      <td>96.0</td>\n",
       "      <td>20000.0</td>\n",
       "      <td>3</td>\n",
       "      <td>3</td>\n",
       "      <td>38</td>\n",
       "      <td>71</td>\n",
       "      <td>71</td>\n",
       "      <td>53</td>\n",
       "      <td>...</td>\n",
       "      <td>False</td>\n",
       "      <td>False</td>\n",
       "      <td>False</td>\n",
       "      <td>False</td>\n",
       "      <td>False</td>\n",
       "      <td>False</td>\n",
       "      <td>False</td>\n",
       "      <td>False</td>\n",
       "      <td>False</td>\n",
       "      <td>prefers_st</td>\n",
       "    </tr>\n",
       "    <tr>\n",
       "      <th>4</th>\n",
       "      <td>023215731d302e2a3a79f208438e9440637d0004</td>\n",
       "      <td>193.0</td>\n",
       "      <td>90.0</td>\n",
       "      <td>7000.0</td>\n",
       "      <td>2</td>\n",
       "      <td>2</td>\n",
       "      <td>47</td>\n",
       "      <td>30</td>\n",
       "      <td>77</td>\n",
       "      <td>47</td>\n",
       "      <td>...</td>\n",
       "      <td>False</td>\n",
       "      <td>False</td>\n",
       "      <td>False</td>\n",
       "      <td>False</td>\n",
       "      <td>False</td>\n",
       "      <td>False</td>\n",
       "      <td>False</td>\n",
       "      <td>False</td>\n",
       "      <td>False</td>\n",
       "      <td>prefers_cb</td>\n",
       "    </tr>\n",
       "  </tbody>\n",
       "</table>\n",
       "<p>5 rows × 55 columns</p>\n",
       "</div>"
      ],
      "text/plain": [
       "                                         ID  height_cm  weight_kg  eur_wage  \\\n",
       "0  6f5e21e1a125d8cd4302ee636b2dbfcde876bad8      191.0       87.0   18000.0   \n",
       "1  3137856d4de4f35ecd437bfcb6f6555e36dabbc0      171.0       72.0    8000.0   \n",
       "2  5e60935d579a888fb0230892921064657d17b850      190.0       88.0    2000.0   \n",
       "3  083e73805f423abc02e65122d2dfcea880db92c0      194.0       96.0   20000.0   \n",
       "4  023215731d302e2a3a79f208438e9440637d0004      193.0       90.0    7000.0   \n",
       "\n",
       "   skill_moves  weak_foot  crossing  finishing  heading_accuracy  \\\n",
       "0            1          3         6          6                10   \n",
       "1            2          3        54         32                45   \n",
       "2            1          3        33         21                14   \n",
       "3            3          3        38         71                71   \n",
       "4            2          2        47         30                77   \n",
       "\n",
       "   short_passing      ...        skilled_dribbling_trait  \\\n",
       "0             15      ...                          False   \n",
       "1             69      ...                          False   \n",
       "2             42      ...                          False   \n",
       "3             53      ...                          False   \n",
       "4             47      ...                          False   \n",
       "\n",
       "   takes_finesse_free_kicks_trait  target_forward_trait  team_player_trait  \\\n",
       "0                           False                 False              False   \n",
       "1                           False                 False              False   \n",
       "2                           False                 False              False   \n",
       "3                           False                 False              False   \n",
       "4                           False                 False              False   \n",
       "\n",
       "   technical_dribbler_trait  tries_to_beat_defensive_line_trait  \\\n",
       "0                     False                               False   \n",
       "1                     False                               False   \n",
       "2                     False                               False   \n",
       "3                     False                               False   \n",
       "4                     False                               False   \n",
       "\n",
       "   poacher_speciality  speedster_speciality  aerial_threat_speciality  \\\n",
       "0               False                 False                     False   \n",
       "1               False                 False                     False   \n",
       "2               False                 False                     False   \n",
       "3               False                 False                     False   \n",
       "4               False                 False                     False   \n",
       "\n",
       "   preferred_pos  \n",
       "0     prefers_gk  \n",
       "1     prefers_cm  \n",
       "2     prefers_gk  \n",
       "3     prefers_st  \n",
       "4     prefers_cb  \n",
       "\n",
       "[5 rows x 55 columns]"
      ]
     },
     "execution_count": 222,
     "metadata": {},
     "output_type": "execute_result"
    }
   ],
   "source": [
    "# Take a look at the Data\n",
    "df_train.head()"
   ]
  },
  {
   "cell_type": "code",
   "execution_count": 223,
   "metadata": {},
   "outputs": [
    {
     "name": "stdout",
     "output_type": "stream",
     "text": [
      "\n",
      "Train and Test Datasets have the same columns?: True\n",
      "df_train.shape: (4829, 55)\n",
      "df_test.shape: (4829, 54)\n"
     ]
    }
   ],
   "source": [
    "# Check if train and test datasets have the same columns\n",
    "target = 'preferred_pos'\n",
    "print('\\nTrain and Test Datasets have the same columns?:',\n",
    "      df_train.drop(target,axis=1).columns.tolist()==df_test.columns.tolist())\n",
    "print('df_train.shape:',df_train.shape)\n",
    "print('df_test.shape:',df_test.shape)"
   ]
  },
  {
   "cell_type": "code",
   "execution_count": 224,
   "metadata": {},
   "outputs": [
    {
     "data": {
      "text/plain": [
       "[]"
      ]
     },
     "execution_count": 224,
     "metadata": {},
     "output_type": "execute_result"
    }
   ],
   "source": [
    "# Check Columns with constant values\n",
    "dropcols_train = [c for c in df_train.columns if (df_train[c].nunique()==1) & (df_train[c].isnull().sum() == 0)]\n",
    "dropcols_train"
   ]
  },
  {
   "cell_type": "markdown",
   "metadata": {},
   "source": [
    "There are no columns with constant values in it."
   ]
  },
  {
   "cell_type": "code",
   "execution_count": 225,
   "metadata": {},
   "outputs": [],
   "source": [
    "#Columns to be dropped\n",
    "cols_to_drop = dropcols_train + ['ID']"
   ]
  },
  {
   "cell_type": "code",
   "execution_count": 226,
   "metadata": {},
   "outputs": [],
   "source": [
    "# Store and Drops Id's from datasets, and Target from Train Dataset\n",
    "IDs = 'ID'\n",
    "y_target = df_train[target].values\n",
    "train_id = df_train[IDs].values\n",
    "test_id = df_test[IDs].values"
   ]
  },
  {
   "cell_type": "code",
   "execution_count": 227,
   "metadata": {},
   "outputs": [],
   "source": [
    "#Merge Data before preprocessing:\n",
    "df_merge = pd.concat([df_train.drop(target,axis=1),df_test],axis=0)\n",
    "df_merge.drop(cols_to_drop,axis=1,inplace=True)"
   ]
  },
  {
   "cell_type": "code",
   "execution_count": 228,
   "metadata": {},
   "outputs": [
    {
     "data": {
      "text/html": [
       "<div>\n",
       "<style scoped>\n",
       "    .dataframe tbody tr th:only-of-type {\n",
       "        vertical-align: middle;\n",
       "    }\n",
       "\n",
       "    .dataframe tbody tr th {\n",
       "        vertical-align: top;\n",
       "    }\n",
       "\n",
       "    .dataframe thead th {\n",
       "        text-align: right;\n",
       "    }\n",
       "</style>\n",
       "<table border=\"1\" class=\"dataframe\">\n",
       "  <thead>\n",
       "    <tr style=\"text-align: right;\">\n",
       "      <th></th>\n",
       "      <th>Total</th>\n",
       "      <th>Percent</th>\n",
       "    </tr>\n",
       "  </thead>\n",
       "  <tbody>\n",
       "    <tr>\n",
       "      <th>aerial_threat_speciality</th>\n",
       "      <td>0</td>\n",
       "      <td>0.0</td>\n",
       "    </tr>\n",
       "    <tr>\n",
       "      <th>aggression</th>\n",
       "      <td>0</td>\n",
       "      <td>0.0</td>\n",
       "    </tr>\n",
       "    <tr>\n",
       "      <th>strength</th>\n",
       "      <td>0</td>\n",
       "      <td>0.0</td>\n",
       "    </tr>\n",
       "    <tr>\n",
       "      <th>stamina</th>\n",
       "      <td>0</td>\n",
       "      <td>0.0</td>\n",
       "    </tr>\n",
       "    <tr>\n",
       "      <th>jumping</th>\n",
       "      <td>0</td>\n",
       "      <td>0.0</td>\n",
       "    </tr>\n",
       "    <tr>\n",
       "      <th>shot_power</th>\n",
       "      <td>0</td>\n",
       "      <td>0.0</td>\n",
       "    </tr>\n",
       "    <tr>\n",
       "      <th>balance</th>\n",
       "      <td>0</td>\n",
       "      <td>0.0</td>\n",
       "    </tr>\n",
       "    <tr>\n",
       "      <th>reactions</th>\n",
       "      <td>0</td>\n",
       "      <td>0.0</td>\n",
       "    </tr>\n",
       "    <tr>\n",
       "      <th>agility</th>\n",
       "      <td>0</td>\n",
       "      <td>0.0</td>\n",
       "    </tr>\n",
       "    <tr>\n",
       "      <th>sprint_speed</th>\n",
       "      <td>0</td>\n",
       "      <td>0.0</td>\n",
       "    </tr>\n",
       "    <tr>\n",
       "      <th>acceleration</th>\n",
       "      <td>0</td>\n",
       "      <td>0.0</td>\n",
       "    </tr>\n",
       "    <tr>\n",
       "      <th>ball_control</th>\n",
       "      <td>0</td>\n",
       "      <td>0.0</td>\n",
       "    </tr>\n",
       "    <tr>\n",
       "      <th>long_passing</th>\n",
       "      <td>0</td>\n",
       "      <td>0.0</td>\n",
       "    </tr>\n",
       "    <tr>\n",
       "      <th>free_kick_accuracy</th>\n",
       "      <td>0</td>\n",
       "      <td>0.0</td>\n",
       "    </tr>\n",
       "    <tr>\n",
       "      <th>curve</th>\n",
       "      <td>0</td>\n",
       "      <td>0.0</td>\n",
       "    </tr>\n",
       "    <tr>\n",
       "      <th>dribbling</th>\n",
       "      <td>0</td>\n",
       "      <td>0.0</td>\n",
       "    </tr>\n",
       "    <tr>\n",
       "      <th>volleys</th>\n",
       "      <td>0</td>\n",
       "      <td>0.0</td>\n",
       "    </tr>\n",
       "    <tr>\n",
       "      <th>short_passing</th>\n",
       "      <td>0</td>\n",
       "      <td>0.0</td>\n",
       "    </tr>\n",
       "    <tr>\n",
       "      <th>heading_accuracy</th>\n",
       "      <td>0</td>\n",
       "      <td>0.0</td>\n",
       "    </tr>\n",
       "    <tr>\n",
       "      <th>finishing</th>\n",
       "      <td>0</td>\n",
       "      <td>0.0</td>\n",
       "    </tr>\n",
       "  </tbody>\n",
       "</table>\n",
       "</div>"
      ],
      "text/plain": [
       "                          Total  Percent\n",
       "aerial_threat_speciality      0      0.0\n",
       "aggression                    0      0.0\n",
       "strength                      0      0.0\n",
       "stamina                       0      0.0\n",
       "jumping                       0      0.0\n",
       "shot_power                    0      0.0\n",
       "balance                       0      0.0\n",
       "reactions                     0      0.0\n",
       "agility                       0      0.0\n",
       "sprint_speed                  0      0.0\n",
       "acceleration                  0      0.0\n",
       "ball_control                  0      0.0\n",
       "long_passing                  0      0.0\n",
       "free_kick_accuracy            0      0.0\n",
       "curve                         0      0.0\n",
       "dribbling                     0      0.0\n",
       "volleys                       0      0.0\n",
       "short_passing                 0      0.0\n",
       "heading_accuracy              0      0.0\n",
       "finishing                     0      0.0"
      ]
     },
     "execution_count": 228,
     "metadata": {},
     "output_type": "execute_result"
    }
   ],
   "source": [
    "#Missing Data on Merge Dataset\n",
    "total = df_merge.isnull().sum().sort_values(ascending=False)\n",
    "percent = (df_merge.isnull().sum()/df_merge.isnull().count()).sort_values(ascending=False)\n",
    "missing_data = pd.concat([total, percent], axis=1, keys=['Total', 'Percent'])\n",
    "missing_data.head(20)"
   ]
  },
  {
   "cell_type": "markdown",
   "metadata": {},
   "source": [
    "There is no missing data!"
   ]
  },
  {
   "cell_type": "markdown",
   "metadata": {},
   "source": [
    "### LabelEncoder Predictors"
   ]
  },
  {
   "cell_type": "code",
   "execution_count": 229,
   "metadata": {},
   "outputs": [],
   "source": [
    "qualitative_features = [f for f in df_merge.columns \n",
    "                        if (df_merge[f].dtypes == object) | (df_merge[f].dtypes == bool)] #Lista de Features Qualitativas.\n",
    "quantitative_features = [f for f in df_merge.dropna().columns \n",
    "                         if (df_merge[f].dtypes != object) & (df_merge[f].dtypes != bool)] #Lista de Features Qualitativas.\n",
    "\n",
    "from collections import defaultdict\n",
    "from sklearn.preprocessing import LabelEncoder\n",
    "d = defaultdict(LabelEncoder)\n",
    "### Encoding the variable\n",
    "fit = df_merge[qualitative_features].apply(lambda x: d[x.name].fit_transform(x))\n",
    "df_merge[qualitative_features] = fit"
   ]
  },
  {
   "cell_type": "markdown",
   "metadata": {},
   "source": [
    "### Restore datraframes df_train and df_test"
   ]
  },
  {
   "cell_type": "code",
   "execution_count": 230,
   "metadata": {},
   "outputs": [],
   "source": [
    "df_train = df_merge[:len(df_train)]\n",
    "df_train[target] = y_target.tolist()\n",
    "df_test = df_merge[len(df_train):]"
   ]
  },
  {
   "cell_type": "markdown",
   "metadata": {},
   "source": [
    "### Division between X_train,X_val,y_train,y_val"
   ]
  },
  {
   "cell_type": "code",
   "execution_count": 277,
   "metadata": {},
   "outputs": [],
   "source": [
    "from sklearn.utils import shuffle\n",
    "from sklearn.model_selection import train_test_split\n",
    "\n",
    "size_test = 0.3\n",
    "df_train = shuffle(df_train) #shuffle data before division\n",
    "train_target = df_train[target]\n",
    "predictors = df_train.drop(target, axis=1)\n",
    "X_train, X_val, y_train, y_val = train_test_split(predictors, \n",
    "                                                    train_target,\n",
    "                                                    train_size=1-size_test, \n",
    "                                                    test_size=size_test, \n",
    "                                                    random_state=0)\n",
    "X_test = df_test"
   ]
  },
  {
   "cell_type": "code",
   "execution_count": 278,
   "metadata": {},
   "outputs": [
    {
     "data": {
      "text/plain": [
       "3694    prefers_gk\n",
       "4342    prefers_gk\n",
       "618     prefers_cb\n",
       "Name: preferred_pos, dtype: object"
      ]
     },
     "execution_count": 278,
     "metadata": {},
     "output_type": "execute_result"
    }
   ],
   "source": [
    "y_val[:3]"
   ]
  },
  {
   "cell_type": "code",
   "execution_count": 279,
   "metadata": {},
   "outputs": [
    {
     "data": {
      "text/plain": [
       "4653    prefers_gk\n",
       "710     prefers_st\n",
       "106     prefers_cb\n",
       "Name: preferred_pos, dtype: object"
      ]
     },
     "execution_count": 279,
     "metadata": {},
     "output_type": "execute_result"
    }
   ],
   "source": [
    "y_train[:3]"
   ]
  },
  {
   "cell_type": "markdown",
   "metadata": {},
   "source": [
    "### Decision Tree"
   ]
  },
  {
   "cell_type": "code",
   "execution_count": 280,
   "metadata": {},
   "outputs": [
    {
     "name": "stdout",
     "output_type": "stream",
     "text": [
      "The accuracy of the Decision Tree is 0.7777777777777778\n"
     ]
    }
   ],
   "source": [
    "from sklearn.tree import DecisionTreeClassifier #for using Decision Tree Algoithm\n",
    "model=DecisionTreeClassifier()\n",
    "model.fit(X_train,y_train)\n",
    "prediction=model.predict(X_val)\n",
    "print('The accuracy of the Decision Tree is',metrics.accuracy_score(prediction,y_val))"
   ]
  },
  {
   "cell_type": "markdown",
   "metadata": {},
   "source": [
    "### Let's check the accuracy for various values of n for K-Nearest nerighbours"
   ]
  },
  {
   "cell_type": "code",
   "execution_count": 281,
   "metadata": {},
   "outputs": [
    {
     "data": {
      "text/plain": [
       "([<matplotlib.axis.XTick at 0x246003c6438>,\n",
       "  <matplotlib.axis.XTick at 0x246003bb828>,\n",
       "  <matplotlib.axis.XTick at 0x246003bb4a8>,\n",
       "  <matplotlib.axis.XTick at 0x246003e89e8>,\n",
       "  <matplotlib.axis.XTick at 0x246003e8ef0>,\n",
       "  <matplotlib.axis.XTick at 0x246003f0438>,\n",
       "  <matplotlib.axis.XTick at 0x246003f0940>,\n",
       "  <matplotlib.axis.XTick at 0x246003f0e48>,\n",
       "  <matplotlib.axis.XTick at 0x246003f0a20>,\n",
       "  <matplotlib.axis.XTick at 0x246003f8278>],\n",
       " <a list of 10 Text xticklabel objects>)"
      ]
     },
     "execution_count": 281,
     "metadata": {},
     "output_type": "execute_result"
    },
    {
     "data": {
      "image/png": "[encoded data removed]",
      "text/plain": [
       "<Figure size 432x288 with 1 Axes>"
      ]
     },
     "metadata": {},
     "output_type": "display_data"
    }
   ],
   "source": [
    "from sklearn.neighbors import KNeighborsClassifier  # for K nearest neighbours\n",
    "import matplotlib.pyplot as plt\n",
    "a_index=list(range(1,11))\n",
    "a=pd.Series()\n",
    "x=[1,2,3,4,5,6,7,8,9,10]\n",
    "for i in list(range(1,11)):\n",
    "    model=KNeighborsClassifier(n_neighbors=i) \n",
    "    model.fit(X_train,y_train)\n",
    "    prediction=model.predict(X_val)\n",
    "    a=a.append(pd.Series(metrics.accuracy_score(prediction,y_val)))\n",
    "plt.plot(a_index, a)\n",
    "plt.xticks(x)"
   ]
  },
  {
   "cell_type": "markdown",
   "metadata": {},
   "source": [
    "### Random Forest Classifier"
   ]
  },
  {
   "cell_type": "markdown",
   "metadata": {},
   "source": [
    "Let's transform our target into binary vectors, this way RFClassifier can treat it to fit a ML model."
   ]
  },
  {
   "cell_type": "code",
   "execution_count": 282,
   "metadata": {},
   "outputs": [
    {
     "name": "stdout",
     "output_type": "stream",
     "text": [
      "[[1 0 0 0 0 0 0 0 0 0 0 0 0 0 0]\n",
      " [0 0 0 0 0 1 0 0 0 0 0 0 0 0 0]\n",
      " [0 0 0 0 0 1 0 0 0 0 0 0 0 0 0]]\n"
     ]
    }
   ],
   "source": [
    "from sklearn.preprocessing import LabelBinarizer\n",
    "binarizer = LabelBinarizer()\n",
    "y_binarized = binarizer.fit_transform(df_train[target])\n",
    "print(y_binarized[:3])"
   ]
  },
  {
   "cell_type": "code",
   "execution_count": 283,
   "metadata": {},
   "outputs": [
    {
     "data": {
      "text/plain": [
       "(4829, 15)"
      ]
     },
     "execution_count": 283,
     "metadata": {},
     "output_type": "execute_result"
    }
   ],
   "source": [
    "y_binarized.shape"
   ]
  },
  {
   "cell_type": "code",
   "execution_count": 284,
   "metadata": {},
   "outputs": [
    {
     "name": "stdout",
     "output_type": "stream",
     "text": [
      "[[0 0 0 0 0 1 0 0 0 0 0 0 0 0 0]\n",
      " [0 0 0 0 0 0 0 0 0 0 0 0 0 0 1]\n",
      " [0 1 0 0 0 0 0 0 0 0 0 0 0 0 0]]\n"
     ]
    }
   ],
   "source": [
    "y_train_binarized = binarizer.fit_transform(y_train)\n",
    "print(y_train_binarized[:3])"
   ]
  },
  {
   "cell_type": "code",
   "execution_count": 285,
   "metadata": {},
   "outputs": [
    {
     "data": {
      "text/plain": [
       "(3380, 15)"
      ]
     },
     "execution_count": 285,
     "metadata": {},
     "output_type": "execute_result"
    }
   ],
   "source": [
    "y_train_binarized.shape"
   ]
  },
  {
   "cell_type": "code",
   "execution_count": 286,
   "metadata": {},
   "outputs": [
    {
     "name": "stdout",
     "output_type": "stream",
     "text": [
      "[[0 0 0 0 0 1 0 0 0 0 0 0 0 0 0]\n",
      " [0 0 0 0 0 1 0 0 0 0 0 0 0 0 0]\n",
      " [0 1 0 0 0 0 0 0 0 0 0 0 0 0 0]]\n"
     ]
    }
   ],
   "source": [
    "y_val_binarized = binarizer.fit_transform(y_val)\n",
    "print(y_val_binarized[:3])"
   ]
  },
  {
   "cell_type": "code",
   "execution_count": 287,
   "metadata": {},
   "outputs": [
    {
     "data": {
      "text/plain": [
       "(1449, 15)"
      ]
     },
     "execution_count": 287,
     "metadata": {},
     "output_type": "execute_result"
    }
   ],
   "source": [
    "y_val_binarized.shape"
   ]
  },
  {
   "cell_type": "code",
   "execution_count": 288,
   "metadata": {},
   "outputs": [],
   "source": [
    "from sklearn.ensemble import RandomForestClassifier\n",
    "clf = RandomForestClassifier(n_estimators=1000)\n",
    "clf.fit(X_train.values, y_train_binarized)\n",
    "y_val_pred = clf.predict(X_val.values)"
   ]
  },
  {
   "cell_type": "code",
   "execution_count": 289,
   "metadata": {},
   "outputs": [
    {
     "name": "stdout",
     "output_type": "stream",
     "text": [
      "The accuracy of the RandomForestClassifier is 0.7301587301587301\n"
     ]
    }
   ],
   "source": [
    "print('The accuracy of the RandomForestClassifier is',metrics.accuracy_score(y_val_pred,y_val_binarized))"
   ]
  },
  {
   "cell_type": "code",
   "execution_count": 290,
   "metadata": {},
   "outputs": [
    {
     "name": "stdout",
     "output_type": "stream",
     "text": [
      "             precision    recall  f1-score   support\n",
      "\n",
      "          0       1.00      0.02      0.04        54\n",
      "          1       0.96      0.95      0.96       348\n",
      "          2       1.00      0.03      0.06        67\n",
      "          3       0.00      0.00      0.00         4\n",
      "          4       0.86      0.51      0.64       121\n",
      "          5       1.00      1.00      1.00       269\n",
      "          6       0.96      0.73      0.83       100\n",
      "          7       0.00      0.00      0.00        30\n",
      "          8       0.00      0.00      0.00         6\n",
      "          9       0.00      0.00      0.00         1\n",
      "         10       0.92      0.52      0.67        90\n",
      "         11       0.00      0.00      0.00        53\n",
      "         12       0.00      0.00      0.00        14\n",
      "         13       0.00      0.00      0.00         1\n",
      "         14       0.95      0.94      0.95       291\n",
      "\n",
      "avg / total       0.89      0.73      0.76      1449\n",
      "\n"
     ]
    }
   ],
   "source": [
    "from sklearn.metrics import classification_report\n",
    "print(classification_report(y_val_binarized, y_val_pred))"
   ]
  },
  {
   "cell_type": "code",
   "execution_count": 291,
   "metadata": {},
   "outputs": [
    {
     "data": {
      "text/plain": [
       "array([[0., 0., 0., 0., 0., 0., 0., 0., 0., 0., 0., 0., 0., 0., 0.],\n",
       "       [0., 0., 0., 0., 1., 0., 0., 0., 0., 0., 0., 0., 0., 0., 0.],\n",
       "       [0., 0., 0., 0., 0., 1., 0., 0., 0., 0., 0., 0., 0., 0., 0.]])"
      ]
     },
     "execution_count": 291,
     "metadata": {},
     "output_type": "execute_result"
    }
   ],
   "source": [
    "rf_prediction = clf.predict(X_test.values)\n",
    "rf_prediction[:3]"
   ]
  },
  {
   "cell_type": "code",
   "execution_count": 292,
   "metadata": {},
   "outputs": [
    {
     "data": {
      "text/plain": [
       "array(['prefers_cam', 'prefers_cm', 'prefers_gk'], dtype='<U11')"
      ]
     },
     "execution_count": 292,
     "metadata": {},
     "output_type": "execute_result"
    }
   ],
   "source": [
    "# Return result to string\n",
    "rf_prediction = binarizer.inverse_transform(rf_prediction) \n",
    "rf_prediction[:3]"
   ]
  },
  {
   "cell_type": "markdown",
   "metadata": {},
   "source": [
    "### Submission CSV File Creation\n",
    "\n",
    "I will use the RandomForest model prediction as final model."
   ]
  },
  {
   "cell_type": "code",
   "execution_count": 293,
   "metadata": {},
   "outputs": [],
   "source": [
    "df_saida = pd.DataFrame(\n",
    "        {'ID':list(test_id),\n",
    "         'preferred_pos':list(rf_prediction)\n",
    "                })"
   ]
  },
  {
   "cell_type": "code",
   "execution_count": 294,
   "metadata": {},
   "outputs": [
    {
     "data": {
      "text/html": [
       "<div>\n",
       "<style scoped>\n",
       "    .dataframe tbody tr th:only-of-type {\n",
       "        vertical-align: middle;\n",
       "    }\n",
       "\n",
       "    .dataframe tbody tr th {\n",
       "        vertical-align: top;\n",
       "    }\n",
       "\n",
       "    .dataframe thead th {\n",
       "        text-align: right;\n",
       "    }\n",
       "</style>\n",
       "<table border=\"1\" class=\"dataframe\">\n",
       "  <thead>\n",
       "    <tr style=\"text-align: right;\">\n",
       "      <th></th>\n",
       "      <th>ID</th>\n",
       "      <th>preferred_pos</th>\n",
       "    </tr>\n",
       "  </thead>\n",
       "  <tbody>\n",
       "    <tr>\n",
       "      <th>0</th>\n",
       "      <td>d5286f4b535dcf7df5aeed0777cb61987840895f</td>\n",
       "      <td>prefers_cam</td>\n",
       "    </tr>\n",
       "    <tr>\n",
       "      <th>1</th>\n",
       "      <td>7bc1e32ee0ebbfab10f70378ad6c573bdfe41176</td>\n",
       "      <td>prefers_cm</td>\n",
       "    </tr>\n",
       "    <tr>\n",
       "      <th>2</th>\n",
       "      <td>7003552a70d3f826412e586188c2e69383939a4a</td>\n",
       "      <td>prefers_gk</td>\n",
       "    </tr>\n",
       "    <tr>\n",
       "      <th>3</th>\n",
       "      <td>5ea98302a9c7969336ffa578567e2aba0817c37b</td>\n",
       "      <td>prefers_cam</td>\n",
       "    </tr>\n",
       "    <tr>\n",
       "      <th>4</th>\n",
       "      <td>2c48f351d73be98ded530102ca549f80c81ce72f</td>\n",
       "      <td>prefers_cam</td>\n",
       "    </tr>\n",
       "  </tbody>\n",
       "</table>\n",
       "</div>"
      ],
      "text/plain": [
       "                                         ID preferred_pos\n",
       "0  d5286f4b535dcf7df5aeed0777cb61987840895f   prefers_cam\n",
       "1  7bc1e32ee0ebbfab10f70378ad6c573bdfe41176    prefers_cm\n",
       "2  7003552a70d3f826412e586188c2e69383939a4a    prefers_gk\n",
       "3  5ea98302a9c7969336ffa578567e2aba0817c37b   prefers_cam\n",
       "4  2c48f351d73be98ded530102ca549f80c81ce72f   prefers_cam"
      ]
     },
     "execution_count": 294,
     "metadata": {},
     "output_type": "execute_result"
    }
   ],
   "source": [
    "# Lets see our answer dataframe\n",
    "df_saida[:5]"
   ]
  },
  {
   "cell_type": "markdown",
   "metadata": {},
   "source": [
    "### Submit Solution"
   ]
  },
  {
   "cell_type": "code",
   "execution_count": 295,
   "metadata": {},
   "outputs": [],
   "source": [
    "df_saida.to_csv(r'C:\\Users\\wesle\\codenation\\mlearning-1\\answer.csv',index=False)"
   ]
  },
  {
   "cell_type": "markdown",
   "metadata": {},
   "source": [
    "This solution scored 77% on LeaderBoard."
   ]
  }
 ],
 "metadata": {
  "kernelspec": {
   "display_name": "Python 3",
   "language": "python",
   "name": "python3"
  },
  "language_info": {
   "codemirror_mode": {
    "name": "ipython",
    "version": 3
   },
   "file_extension": ".py",
   "mimetype": "text/x-python",
   "name": "python",
   "nbconvert_exporter": "python",
   "pygments_lexer": "ipython3",
   "version": "3.6.5"
  }
 },
 "nbformat": 4,
 "nbformat_minor": 2
}
